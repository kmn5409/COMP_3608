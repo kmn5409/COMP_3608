{
 "cells": [
  {
   "cell_type": "code",
   "execution_count": 28,
   "metadata": {},
   "outputs": [],
   "source": [
    "import torch as th\n",
    "import torch.optim as optim\n",
    "import torch.nn as nn\n",
    "import numpy as np\n",
    "import matplotlib.pyplot as plt"
   ]
  },
  {
   "cell_type": "code",
   "execution_count": 29,
   "metadata": {},
   "outputs": [],
   "source": [
    "def plot_loss_curve(loss_curve):\n",
    "        plt.plot(list(range(len(loss_curve))), loss_curve)\n",
    "        plt.show()"
   ]
  },
  {
   "cell_type": "code",
   "execution_count": 30,
   "metadata": {},
   "outputs": [],
   "source": [
    "class LeastSquaresContainer(nn.Module):\n",
    "    def __init__(self, n):\n",
    "        super().__init__()\n",
    "        x = th.tensor(np.random.random(n), dtype=th.float32)\n",
    "        self.x = nn.Parameter(x)\n",
    "    \n",
    "    def loss(self, E, d):\n",
    "        return loss_function(E, self.x, d)"
   ]
  },
  {
   "cell_type": "code",
   "execution_count": 31,
   "metadata": {},
   "outputs": [],
   "source": [
    "def loss_function(E, x, d):\n",
    "    return (th.norm(E@x -d))**2\n",
    "    \n",
    "def least_squares_approx(E, d, lr=0.00001, epochs=500):\n",
    "    m, n = E.shape\n",
    "    estimator = LeastSquaresContainer(n)\n",
    "    loss_curve= []\n",
    "    optimizer = optim.SGD(estimator.parameters(), lr)\n",
    "    for epoch in range(epochs):\n",
    "        optimizer.zero_grad()\n",
    "        loss=estimator.loss(E,d)\n",
    "        loss.backward()\n",
    "        loss_curve.append(loss.item())\n",
    "        optimizer.step()\n",
    "    plot_loss_curve(loss_curve)\n",
    "    return estimator"
   ]
  },
  {
   "cell_type": "code",
   "execution_count": 32,
   "metadata": {},
   "outputs": [],
   "source": [
    "E = np.load(\"E.npy\")\n",
    "d = np.load(\"d.npy\")\n",
    "E = th.tensor(E, dtype=th.float32)\n",
    "d = th.tensor(d, dtype=th.float64) "
   ]
  },
  {
   "cell_type": "code",
   "execution_count": 33,
   "metadata": {},
   "outputs": [
    {
     "data": {
      "image/png": "[encoded data removed]",
      "text/plain": [
       "<Figure size 432x288 with 1 Axes>"
      ]
     },
     "metadata": {
      "needs_background": "light"
     },
     "output_type": "display_data"
    }
   ],
   "source": [
    "estimator = least_squares_approx(E, d)"
   ]
  },
  {
   "cell_type": "code",
   "execution_count": 34,
   "metadata": {},
   "outputs": [
    {
     "name": "stdout",
     "output_type": "stream",
     "text": [
      "Link Delay:  Parameter containing:\n",
      "tensor([ 0.0796,  0.7039,  0.4649,  0.2745,  0.7181,  0.9140,  0.9118, -0.0311,\n",
      "         0.3249,  0.6081,  0.8268,  0.9387,  0.8505,  0.7036,  0.1246,  0.4544,\n",
      "         0.8188,  0.1274,  0.2431,  0.6971], requires_grad=True)\n"
     ]
    }
   ],
   "source": [
    "print(\"Link Delay: \" , estimator.x)"
   ]
  },
  {
   "cell_type": "code",
   "execution_count": null,
   "metadata": {},
   "outputs": [],
   "source": []
  }
 ],
 "metadata": {
  "kernelspec": {
   "display_name": "Python 3",
   "language": "python",
   "name": "python3"
  },
  "language_info": {
   "codemirror_mode": {
    "name": "ipython",
    "version": 3
   },
   "file_extension": ".py",
   "mimetype": "text/x-python",
   "name": "python",
   "nbconvert_exporter": "python",
   "pygments_lexer": "ipython3",
   "version": "3.7.4"
  }
 },
 "nbformat": 4,
 "nbformat_minor": 2
}
