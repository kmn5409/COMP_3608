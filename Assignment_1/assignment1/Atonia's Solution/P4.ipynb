{
 "cells": [
  {
   "cell_type": "code",
   "execution_count": 154,
   "metadata": {},
   "outputs": [],
   "source": [
    "import torch as th\n",
    "import torch.optim as optim\n",
    "import torch.nn as nn\n",
    "import numpy as np\n",
    "import matplotlib.pyplot as plt"
   ]
  },
  {
   "cell_type": "code",
   "execution_count": 155,
   "metadata": {},
   "outputs": [],
   "source": [
    "def plot_loss_curve(loss_curve):\n",
    "        plt.plot(list(range(len(loss_curve))), loss_curve)\n",
    "        plt.show()"
   ]
  },
  {
   "cell_type": "code",
   "execution_count": 156,
   "metadata": {},
   "outputs": [],
   "source": [
    "class LeastSquaresContainer(nn.Module):\n",
    "    def __init__(self, n):\n",
    "        super().__init__()\n",
    "        x = th.tensor(np.random.random(n), dtype=th.float32)\n",
    "        self.x = nn.Parameter(x)\n",
    "    \n",
    "    def loss(self, E, d):\n",
    "        return loss_function(E, self.x, d)"
   ]
  },
  {
   "cell_type": "code",
   "execution_count": 157,
   "metadata": {},
   "outputs": [],
   "source": [
    "def loss_function(E, x, d):\n",
    "    return (th.norm(E@x -d))**2\n",
    "    \n",
    "def least_squares_approx(E, d, lr=0.01, epochs=200):\n",
    "    m, n = E.shape\n",
    "    estimator = LeastSquaresContainer(n)\n",
    "    loss_curve= []\n",
    "    optimizer = optim.SGD(estimator.parameters(), lr=0.00001)\n",
    "    for epoch in range(epochs):\n",
    "        optimizer.zero_grad()\n",
    "        loss=estimator.loss(E,d)\n",
    "        loss.backward()\n",
    "        loss_curve.append(loss.item())\n",
    "        optimizer.step()\n",
    "    plot_loss_curve(loss_curve)\n",
    "    return estimator"
   ]
  },
  {
   "cell_type": "code",
   "execution_count": 159,
   "metadata": {},
   "outputs": [
    {
     "name": "stdout",
     "output_type": "stream",
     "text": [
      "E is :\n",
      "tensor([[1., 1., 1.,  ..., 1., 1., 0.],\n",
      "        [1., 1., 1.,  ..., 0., 0., 1.],\n",
      "        [0., 0., 1.,  ..., 1., 0., 1.],\n",
      "        ...,\n",
      "        [0., 1., 0.,  ..., 0., 1., 0.],\n",
      "        [1., 1., 1.,  ..., 1., 0., 0.],\n",
      "        [0., 1., 0.,  ..., 0., 1., 0.]])\n",
      " d is :\n",
      "tensor([6.1646, 5.3852, 5.0090,  ..., 5.5125, 4.8667, 7.6771],\n",
      "       dtype=torch.float64)\n",
      "E's shape is torch.Size([5000, 20])\n",
      "d's shape is torch.Size([5000])\n"
     ]
    }
   ],
   "source": [
    "E = np.load(\"E.npy\")\n",
    "d = np.load(\"d.npy\")\n",
    "E = th.tensor(E, dtype=th.float32)\n",
    "d = th.tensor(d, dtype=th.float64) \n",
    "\n",
    "print('E is :\\n{}\\n d is :\\n{}'.format(E,d))\n",
    "print('E\\'s shape is {}'.format(E.shape))\n",
    "print('d\\'s shape is {}'.format(d.shape))"
   ]
  },
  {
   "cell_type": "code",
   "execution_count": 153,
   "metadata": {},
   "outputs": [
    {
     "data": {
      "image/png": "[encoded data removed]",
      "text/plain": [
       "<Figure size 432x288 with 1 Axes>"
      ]
     },
     "metadata": {
      "needs_background": "light"
     },
     "output_type": "display_data"
    }
   ],
   "source": [
    "estimator = least_squares_approx(E, d)"
   ]
  },
  {
   "cell_type": "code",
   "execution_count": 147,
   "metadata": {},
   "outputs": [
    {
     "name": "stdout",
     "output_type": "stream",
     "text": [
      "Parameter containing:\n",
      "tensor([ 0.0807,  0.6998,  0.4636,  0.2725,  0.7146,  0.9155,  0.9129, -0.0281,\n",
      "         0.3251,  0.6066,  0.8267,  0.9397,  0.8521,  0.7032,  0.1249,  0.4521,\n",
      "         0.8148,  0.1311,  0.2461,  0.6994], requires_grad=True)\n"
     ]
    }
   ],
   "source": [
    "print(estimator.x)"
   ]
  },
  {
   "cell_type": "code",
   "execution_count": null,
   "metadata": {},
   "outputs": [],
   "source": []
  }
 ],
 "metadata": {
  "kernelspec": {
   "display_name": "Python 3",
   "language": "python",
   "name": "python3"
  },
  "language_info": {
   "codemirror_mode": {
    "name": "ipython",
    "version": 3
   },
   "file_extension": ".py",
   "mimetype": "text/x-python",
   "name": "python",
   "nbconvert_exporter": "python",
   "pygments_lexer": "ipython3",
   "version": "3.7.4"
  }
 },
 "nbformat": 4,
 "nbformat_minor": 2
}
