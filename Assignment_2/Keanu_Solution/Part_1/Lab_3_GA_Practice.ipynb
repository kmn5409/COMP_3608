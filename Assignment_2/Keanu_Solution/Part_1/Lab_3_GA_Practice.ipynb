{
 "cells": [
  {
   "cell_type": "code",
   "execution_count": 15,
   "metadata": {},
   "outputs": [],
   "source": [
    "%load_ext autoreload\n",
    "%autoreload 2"
   ]
  },
  {
   "cell_type": "code",
   "execution_count": 16,
   "metadata": {},
   "outputs": [
    {
     "name": "stdout",
     "output_type": "stream",
     "text": [
      "Populating the interactive namespace from numpy and matplotlib\n"
     ]
    },
    {
     "name": "stderr",
     "output_type": "stream",
     "text": [
      "/usr/local/lib/python3.5/dist-packages/IPython/core/magics/pylab.py:160: UserWarning: pylab import has clobbered these variables: ['e']\n",
      "`%matplotlib` prevents importing * from pylab and numpy\n",
      "  \"\\n`%matplotlib` prevents importing * from pylab and numpy\"\n"
     ]
    }
   ],
   "source": [
    "%pylab inline\n",
    "import numpy as np\n",
    "import crossover\n",
    "import selection"
   ]
  },
  {
   "cell_type": "code",
   "execution_count": 17,
   "metadata": {},
   "outputs": [],
   "source": [
    "## Storing data for problem\n",
    "n = 100\n",
    "p = np.random.randint(5,8, size=n)\n",
    "w = np.random.randint(10, 45, size=n)\n",
    "C = 365\n",
    "\n",
    "#Hyperparamets\n",
    "p_c = 0.8\n",
    "p_m = 0.1\n",
    "k = 100\n",
    "e = 5\n",
    "num_iter = 100\n",
    "\n",
    "convergence_curve = []"
   ]
  },
  {
   "cell_type": "code",
   "execution_count": 18,
   "metadata": {},
   "outputs": [],
   "source": [
    "def compute_penalty(x):\n",
    "    total_weight = np.dot(w, x)\n",
    "    penalty = np.maximum(0, -C + total_weight)\n",
    "    return penalty\n",
    "\n",
    "def fitness(x):\n",
    "    profit = np.dot(p, x)\n",
    "    penalty = compute_penalty(x) # we apply a penalty for how much \n",
    "    #extra weight above capacity a solution incurs\n",
    "    return profit - penalty\n",
    "\n",
    "def mutate(x):\n",
    "    point = np.random.randint(1, len(x))\n",
    "    x[point] = 1 - x[point]\n",
    "    return x\n",
    "\n",
    "population = np.random.randint(0, 2, size=(k, n))\n",
    "fitnesses = np.array([fitness(x) for x in population])\n",
    "selector = selection.RouletteWheelSelector()"
   ]
  },
  {
   "cell_type": "code",
   "execution_count": 19,
   "metadata": {},
   "outputs": [],
   "source": [
    "for i in range(num_iter):\n",
    "    convergence_curve.append(max(fitnesses))\n",
    "    new_population = selection.elitism(e, population, fitnesses)\n",
    "    selector.prep_selector(fitnesses)\n",
    "    while len(new_population) < k:\n",
    "        parent1, parent2 = selector.select(population)\n",
    "        perform_crossover = np.random.random() <= p_c\n",
    "        if perform_crossover:\n",
    "            child = crossover.single_point(parent1, parent2)\n",
    "            perform_mutation = np.random.random() <= p_m\n",
    "            if perform_mutation:\n",
    "                child = mutate(child)\n",
    "            new_population = np.append(new_population, [child], axis=0)\n",
    "    population = new_population\n",
    "    fitnesses = np.array([fitness(x) for x in population])"
   ]
  },
  {
   "cell_type": "code",
   "execution_count": 20,
   "metadata": {},
   "outputs": [],
   "source": [
    "best = selection.elitism(1, population, fitnesses)[0]"
   ]
  },
  {
   "cell_type": "code",
   "execution_count": 21,
   "metadata": {},
   "outputs": [
    {
     "data": {
      "text/plain": [
       "array([0, 0, 0, 0, 0, 0, 0, 0, 0, 0, 0, 0, 0, 0, 1, 0, 0, 0, 1, 0, 0, 0,\n",
       "       0, 0, 0, 0, 1, 1, 0, 0, 0, 0, 0, 0, 1, 0, 0, 0, 1, 1, 0, 0, 0, 0,\n",
       "       0, 0, 0, 0, 0, 0, 0, 0, 0, 0, 1, 0, 0, 0, 0, 0, 0, 1, 0, 0, 1, 1,\n",
       "       1, 0, 0, 0, 0, 0, 0, 1, 0, 0, 0, 1, 0, 0, 0, 0, 0, 0, 0, 0, 0, 0,\n",
       "       0, 0, 0, 0, 0, 0, 0, 1, 1, 0, 0, 1])"
      ]
     },
     "execution_count": 21,
     "metadata": {},
     "output_type": "execute_result"
    }
   ],
   "source": [
    "best"
   ]
  },
  {
   "cell_type": "code",
   "execution_count": 22,
   "metadata": {},
   "outputs": [
    {
     "data": {
      "text/plain": [
       "103"
      ]
     },
     "execution_count": 22,
     "metadata": {},
     "output_type": "execute_result"
    }
   ],
   "source": [
    "fitness(best)"
   ]
  },
  {
   "cell_type": "code",
   "execution_count": 23,
   "metadata": {},
   "outputs": [
    {
     "data": {
      "text/plain": [
       "2"
      ]
     },
     "execution_count": 23,
     "metadata": {},
     "output_type": "execute_result"
    }
   ],
   "source": [
    "compute_penalty(best)"
   ]
  },
  {
   "cell_type": "code",
   "execution_count": 24,
   "metadata": {},
   "outputs": [
    {
     "data": {
      "text/plain": [
       "[<matplotlib.lines.Line2D at 0x7eff8eaa70f0>]"
      ]
     },
     "execution_count": 24,
     "metadata": {},
     "output_type": "execute_result"
    },
    {
     "data": {
      "image/png": "[encoded data removed]",
      "text/plain": [
       "<Figure size 432x288 with 1 Axes>"
      ]
     },
     "metadata": {
      "needs_background": "light"
     },
     "output_type": "display_data"
    }
   ],
   "source": [
    "plot(list(range(len(convergence_curve))), convergence_curve)"
   ]
  }
 ],
 "metadata": {
  "kernelspec": {
   "display_name": "Python 3",
   "language": "python",
   "name": "python3"
  },
  "language_info": {
   "codemirror_mode": {
    "name": "ipython",
    "version": 3
   },
   "file_extension": ".py",
   "mimetype": "text/x-python",
   "name": "python",
   "nbconvert_exporter": "python",
   "pygments_lexer": "ipython3",
   "version": "3.5.2"
  }
 },
 "nbformat": 4,
 "nbformat_minor": 2
}
