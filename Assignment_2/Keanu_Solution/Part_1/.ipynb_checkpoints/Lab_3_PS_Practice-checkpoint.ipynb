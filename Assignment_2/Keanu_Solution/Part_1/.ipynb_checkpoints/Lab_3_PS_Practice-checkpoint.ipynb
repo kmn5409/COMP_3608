{
 "cells": [
  {
   "cell_type": "markdown",
   "metadata": {},
   "source": [
    "# Important questions\n",
    "Why is the fitness function returning -a - b (PS finds maximum so just have to switch the function)\n",
    "Booth function why aren't we solving for when the derivative is zero? (Works for when it's zero)"
   ]
  },
  {
   "cell_type": "code",
   "execution_count": 1,
   "metadata": {},
   "outputs": [],
   "source": [
    "%load_ext autoreload\n",
    "%autoreload 2"
   ]
  },
  {
   "cell_type": "code",
   "execution_count": 2,
   "metadata": {},
   "outputs": [
    {
     "name": "stdout",
     "output_type": "stream",
     "text": [
      "Populating the interactive namespace from numpy and matplotlib\n"
     ]
    }
   ],
   "source": [
    "%pylab inline\n",
    "import numpy as np\n",
    "import math"
   ]
  },
  {
   "cell_type": "code",
   "execution_count": 3,
   "metadata": {},
   "outputs": [],
   "source": [
    "class Particle(object):\n",
    "    def __init__(self, n, low=-50, high=50):\n",
    "        super().__init__()\n",
    "        self.state = np.random.uniform(low=low, high=high, size=n)\n",
    "        self.best_state = np.copy(self.state)\n",
    "        self.velocity = np.zeros_like(self.state)\n",
    "        self.best_score = -10000000\n",
    "    \n",
    "    def compute_velocity(self, inertia_factor, global_best):\n",
    "        exploitation = np.random.random() * (self.best_state - self.state)\n",
    "        exploration = np.random.random() * (global_best.state - self.state)\n",
    "        inertia = inertia_factor * self.velocity\n",
    "        self.velocity = inertia + exploration + exploitation\n",
    "    \n",
    "    def apply_velocity_update(self):\n",
    "        self.state = self.state + self.velocity\n",
    "        \n",
    "    def compute_fitness(self, fitness_func):\n",
    "        fitness = fitness_func(self.state)\n",
    "        if self.best_score < fitness:\n",
    "            self.best_score = fitness\n",
    "            self.best_state = self.state\n",
    "        return fitness"
   ]
  },
  {
   "cell_type": "code",
   "execution_count": 4,
   "metadata": {},
   "outputs": [],
   "source": [
    "# Booth Function\n",
    "\n",
    "def fitness(state):\n",
    "    x = state[0]\n",
    "    y = state[1]\n",
    "    \n",
    "    a = x + 2 * y - 7\n",
    "    a *= a\n",
    "    \n",
    "    b = 2 * x + y - 5\n",
    "    b *= b\n",
    "    \n",
    "    return (1-x)**2 + \n",
    "    #a = -20*math.exp(-0.2*math.sqrt(0.5*(x**2 + y**2)))\n",
    "    #b = -math.exp(0.5*(math.cos(2*math.pi*x) + math.cos(2*math.pi*y) )) + math.exp(1) + 20\n",
    "    #return -a-b"
   ]
  },
  {
   "cell_type": "code",
   "execution_count": 5,
   "metadata": {},
   "outputs": [],
   "source": [
    "n = 2\n",
    "num_particles = 1000\n",
    "num_iterations = 1000\n",
    "inertia_factor = 0.5\n",
    "global_best = np.zeros(n)\n",
    "global_best_fitness = -1000000000"
   ]
  },
  {
   "cell_type": "code",
   "execution_count": 6,
   "metadata": {},
   "outputs": [],
   "source": [
    "particles = [Particle(n) for _ in range(num_particles)]\n",
    "convergence_curve = []"
   ]
  },
  {
   "cell_type": "code",
   "execution_count": 7,
   "metadata": {},
   "outputs": [],
   "source": [
    "for i in range(num_iterations):\n",
    "    for p in particles:\n",
    "        fitness_of_p = p.compute_fitness(fitness)\n",
    "        if fitness_of_p > global_best_fitness:\n",
    "            global_best_fitness = fitness_of_p\n",
    "            global_best = p\n",
    "    for p in particles:\n",
    "        p.compute_velocity(inertia_factor, global_best)\n",
    "    for p in particles:\n",
    "        p.apply_velocity_update()\n",
    "    convergence_curve.append(global_best_fitness)"
   ]
  },
  {
   "cell_type": "code",
   "execution_count": 8,
   "metadata": {},
   "outputs": [
    {
     "data": {
      "text/plain": [
       "array([1., 3.])"
      ]
     },
     "execution_count": 8,
     "metadata": {},
     "output_type": "execute_result"
    }
   ],
   "source": [
    "global_best.state"
   ]
  },
  {
   "cell_type": "code",
   "execution_count": 9,
   "metadata": {},
   "outputs": [
    {
     "data": {
      "text/plain": [
       "[<matplotlib.lines.Line2D at 0x7fc8ab713160>]"
      ]
     },
     "execution_count": 9,
     "metadata": {},
     "output_type": "execute_result"
    },
    {
     "data": {
      "image/png": "[encoded data removed]",
      "text/plain": [
       "<Figure size 432x288 with 1 Axes>"
      ]
     },
     "metadata": {
      "needs_background": "light"
     },
     "output_type": "display_data"
    }
   ],
   "source": [
    "plot(list(range(len(convergence_curve))), convergence_curve)"
   ]
  }
 ],
 "metadata": {
  "kernelspec": {
   "display_name": "Python 3",
   "language": "python",
   "name": "python3"
  },
  "language_info": {
   "codemirror_mode": {
    "name": "ipython",
    "version": 3
   },
   "file_extension": ".py",
   "mimetype": "text/x-python",
   "name": "python",
   "nbconvert_exporter": "python",
   "pygments_lexer": "ipython3",
   "version": "3.5.2"
  }
 },
 "nbformat": 4,
 "nbformat_minor": 2
}
