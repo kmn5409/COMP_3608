{
 "cells": [
  {
   "cell_type": "code",
   "execution_count": 2,
   "metadata": {},
   "outputs": [
    {
     "name": "stdout",
     "output_type": "stream",
     "text": [
      "Populating the interactive namespace from numpy and matplotlib\n"
     ]
    }
   ],
   "source": [
    "%pylab inline\n",
    "import torch as th\n",
    "import torch.optim as optim\n",
    "import torch.nn as nn\n",
    "import numpy as np\n",
    "\n",
    "def plot_loss_curve(loss_curve):\n",
    "    plt.plot(list(range(len(loss_curve))), loss_curve)"
   ]
  },
  {
   "cell_type": "code",
   "execution_count": 3,
   "metadata": {},
   "outputs": [],
   "source": [
    "def loss_function(dataset, k, lam_prime, eps=0.001):\n",
    "    a = th.log(k + eps) + k * th.log(dataset)\n",
    "    b = - k * th.log(lam_prime + eps) - th.log(dataset)\n",
    "    c = - (dataset/lam_prime)**k\n",
    "    return -(th.mean(a + b + c))\n",
    "    #p1 = dataset * th.log(1 - p)\n",
    "    #p2 = th.log(p + eps) # eps added to prevent underflow\n",
    "    #acc = th.mean(p1 + p2)\n",
    "    #return -acc\n",
    "\n",
    "\n",
    "# Recall that p must be a probability, so instead of learning p directly, we instead learn a paramater that when\n",
    "# passed through sigmoid gives us p\n",
    "\n",
    "\n",
    "class Model(nn.Module):\n",
    "    def __init__(self):\n",
    "        super().__init__()\n",
    "        lam_prime = np.random.normal(2)\n",
    "        k_prime = np.random.normal(2)\n",
    "        self.k_prime = nn.Parameter(th.tensor(k_prime))\n",
    "        self.lam_prime = nn.Parameter(th.tensor(lam_prime))\n",
    "        \n",
    "    \n",
    "    def k(self):\n",
    "        return th.abs(self.k_prime) \n",
    "    \n",
    "    def lam(self):\n",
    "        return th.abs(self.lam_prime)\n",
    "    \n",
    "    def loss(self, dataset):\n",
    "        return loss_function(dataset, self.k(), self.lam())"
   ]
  },
  {
   "cell_type": "code",
   "execution_count": 10,
   "metadata": {},
   "outputs": [],
   "source": [
    "model = Model()\n",
    "lr = 0.01\n",
    "optimiser = optim.SGD(model.parameters(), lr=lr)\n",
    "num_iters = 10000\n",
    "loss_curve = []"
   ]
  },
  {
   "cell_type": "code",
   "execution_count": 11,
   "metadata": {},
   "outputs": [],
   "source": [
    "#fp = open('mle1.npy', 'rb')\n",
    "fp = open('../../data.npy', 'rb')\n",
    "dataset = np.load(fp)\n",
    "fp.close()\n",
    "dataset = th.tensor(dataset, dtype=th.float32)"
   ]
  },
  {
   "cell_type": "code",
   "execution_count": 12,
   "metadata": {},
   "outputs": [],
   "source": [
    "for i in range(num_iters):\n",
    "    optimiser.zero_grad()\n",
    "    loss_value = model.loss(dataset)\n",
    "    loss_curve.append(loss_value.data.item())\n",
    "    loss_value.backward()\n",
    "    optimiser.step()"
   ]
  },
  {
   "cell_type": "code",
   "execution_count": 13,
   "metadata": {},
   "outputs": [],
   "source": [
    "k = model.k().detach().numpy()\n",
    "lam = model.lam().detach().numpy()"
   ]
  },
  {
   "cell_type": "code",
   "execution_count": 14,
   "metadata": {},
   "outputs": [
    {
     "name": "stdout",
     "output_type": "stream",
     "text": [
      "0.95788956\n",
      "1.2074935\n"
     ]
    }
   ],
   "source": [
    "print(k)\n",
    "print(lam)"
   ]
  },
  {
   "cell_type": "code",
   "execution_count": 15,
   "metadata": {},
   "outputs": [
    {
     "data": {
      "image/png": "[encoded data removed]",
      "text/plain": [
       "<Figure size 432x288 with 1 Axes>"
      ]
     },
     "metadata": {
      "needs_background": "light"
     },
     "output_type": "display_data"
    }
   ],
   "source": [
    "plot_loss_curve(loss_curve)"
   ]
  }
 ],
 "metadata": {
  "kernelspec": {
   "display_name": "Python 3",
   "language": "python",
   "name": "python3"
  },
  "language_info": {
   "codemirror_mode": {
    "name": "ipython",
    "version": 3
   },
   "file_extension": ".py",
   "mimetype": "text/x-python",
   "name": "python",
   "nbconvert_exporter": "python",
   "pygments_lexer": "ipython3",
   "version": "3.5.2"
  }
 },
 "nbformat": 4,
 "nbformat_minor": 2
}
