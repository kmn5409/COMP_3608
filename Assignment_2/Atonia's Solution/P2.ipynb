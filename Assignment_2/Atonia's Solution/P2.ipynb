{
 "cells": [
  {
   "cell_type": "markdown",
   "metadata": {},
   "source": [
    "\n",
    "$$f(x, λ,k)=  k/λ* (x/λ)^(k-1)*e^(-(x/λ)^k )$$\n",
    "\n",
    "$$NLL(λ,k)=-∑log⁡(k/λ*(x/λ)^(k-1)*e^(-(x/λ)^k ) )$$\n",
    "\n",
    "$$NLL(λ,k)=-∑log⁡k-log⁡λ+(k-1)(log⁡x-log⁡λ )-(x/λ)^k  log⁡e $$\n"
   ]
  },
  {
   "cell_type": "code",
   "execution_count": 1,
   "metadata": {},
   "outputs": [],
   "source": [
    "import torch as th\n",
    "import torch.optim as optim\n",
    "import torch.nn as nn\n",
    "import numpy as np\n",
    "import matplotlib.pyplot as plt"
   ]
  },
  {
   "cell_type": "code",
   "execution_count": 2,
   "metadata": {},
   "outputs": [],
   "source": [
    "def loss_function(dataset, k, lmda, eps=0.001):\n",
    "    p1 = th.log(k+eps) - th.log(lmda+eps)\n",
    "    p2 =(k-1)*(th.log(dataset+eps) - th.log(lmda+eps))\n",
    "    p3 = -1*((dataset/lmda)**k)*th.log(th.tensor(np.e))\n",
    "    ans = th.mean(p1+p2+p3)\n",
    "    return -ans"
   ]
  },
  {
   "cell_type": "code",
   "execution_count": 3,
   "metadata": {},
   "outputs": [],
   "source": [
    "def plot_loss_curve(loss_curve):\n",
    "    plt.plot(list(range(len(loss_curve))), loss_curve)"
   ]
  },
  {
   "cell_type": "code",
   "execution_count": 4,
   "metadata": {},
   "outputs": [],
   "source": [
    "class Model(nn.Module):\n",
    "    def __init__(self):\n",
    "        super().__init__()\n",
    "        k_prime = np.random.random()\n",
    "        self.k_prime=nn.Parameter(th.tensor(k_prime))\n",
    "        lmda_prime = np.random.random()\n",
    "        self.lmda_prime=nn.Parameter(th.tensor(lmda_prime))\n",
    "        \n",
    "    def lmda(self):\n",
    "        return th.abs(self.lmda_prime)\n",
    "    \n",
    "    def k(self):\n",
    "        return th.abs(self.k_prime)\n",
    "        \n",
    "    def loss(self, dataset):\n",
    "        return loss_function(dataset, self.lmda(), self.k())"
   ]
  },
  {
   "cell_type": "code",
   "execution_count": 5,
   "metadata": {},
   "outputs": [],
   "source": [
    "dataset= np.load(\"data.npy\")\n",
    "dataset = th.tensor(dataset, dtype=th.float32)"
   ]
  },
  {
   "cell_type": "code",
   "execution_count": 6,
   "metadata": {},
   "outputs": [],
   "source": [
    "model = Model()\n",
    "lr = 0.01\n",
    "optimiser = optim.SGD(model.parameters(), lr=lr)\n",
    "num_iters = 2000\n",
    "loss_curve = []"
   ]
  },
  {
   "cell_type": "code",
   "execution_count": 7,
   "metadata": {},
   "outputs": [],
   "source": [
    "for i in range(num_iters):\n",
    "    optimiser.zero_grad()\n",
    "    loss_value = model.loss(dataset)\n",
    "    loss_curve.append(loss_value.data.item())\n",
    "    loss_value.backward()\n",
    "    optimiser.step()"
   ]
  },
  {
   "cell_type": "code",
   "execution_count": 8,
   "metadata": {},
   "outputs": [
    {
     "name": "stdout",
     "output_type": "stream",
     "text": [
      "1.2091713\n"
     ]
    }
   ],
   "source": [
    "k = model.k().detach().numpy()\n",
    "print(k)"
   ]
  },
  {
   "cell_type": "code",
   "execution_count": 9,
   "metadata": {},
   "outputs": [
    {
     "name": "stdout",
     "output_type": "stream",
     "text": [
      "0.960932\n"
     ]
    }
   ],
   "source": [
    "lmda = model.lmda().detach().numpy()\n",
    "print(lmda)"
   ]
  },
  {
   "cell_type": "code",
   "execution_count": 10,
   "metadata": {},
   "outputs": [
    {
     "data": {
      "image/png": "[encoded data removed]",
      "text/plain": [
       "<Figure size 432x288 with 1 Axes>"
      ]
     },
     "metadata": {
      "needs_background": "light"
     },
     "output_type": "display_data"
    }
   ],
   "source": [
    "plot_loss_curve(loss_curve)"
   ]
  },
  {
   "cell_type": "code",
   "execution_count": null,
   "metadata": {},
   "outputs": [],
   "source": []
  },
  {
   "cell_type": "code",
   "execution_count": null,
   "metadata": {},
   "outputs": [],
   "source": []
  }
 ],
 "metadata": {
  "kernelspec": {
   "display_name": "Python 3",
   "language": "python",
   "name": "python3"
  },
  "language_info": {
   "codemirror_mode": {
    "name": "ipython",
    "version": 3
   },
   "file_extension": ".py",
   "mimetype": "text/x-python",
   "name": "python",
   "nbconvert_exporter": "python",
   "pygments_lexer": "ipython3",
   "version": "3.7.4"
  }
 },
 "nbformat": 4,
 "nbformat_minor": 2
}
