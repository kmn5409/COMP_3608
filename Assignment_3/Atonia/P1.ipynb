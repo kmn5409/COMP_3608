{
 "cells": [
  {
   "cell_type": "code",
   "execution_count": 1,
   "metadata": {},
   "outputs": [],
   "source": [
    "import numpy as np\n",
    "import pandas as pd\n",
    "import sklearn.linear_model as linear\n",
    "import sklearn.model_selection as selection\n",
    "import sklearn.metrics as metrics\n",
    "import matplotlib.pyplot as plt"
   ]
  },
  {
   "cell_type": "code",
   "execution_count": 2,
   "metadata": {},
   "outputs": [],
   "source": [
    "def MAPE(y_true, y_pred):\n",
    "    return np.mean(np.abs((y_true-y_pred)/y_true)*100)"
   ]
  },
  {
   "cell_type": "code",
   "execution_count": 3,
   "metadata": {},
   "outputs": [],
   "source": [
    "y=[]\n",
    "with open('y.npy', 'rb') as fp:\n",
    "    y = np.load(fp)\n",
    "x=[]\n",
    "with open('X.npy', 'rb') as fp:\n",
    "    x = np.load(fp)"
   ]
  },
  {
   "cell_type": "code",
   "execution_count": 4,
   "metadata": {},
   "outputs": [
    {
     "data": {
      "text/plain": [
       "5"
      ]
     },
     "execution_count": 4,
     "metadata": {},
     "output_type": "execute_result"
    }
   ],
   "source": [
    "kf = selection.KFold(n_splits=5, shuffle=True)\n",
    "kf.get_n_splits(x) "
   ]
  },
  {
   "cell_type": "code",
   "execution_count": 5,
   "metadata": {},
   "outputs": [
    {
     "name": "stdout",
     "output_type": "stream",
     "text": [
      "Linear Regression: average MAPE is 33.92432030848989 %\n",
      "Ridge Regression: average MAPE is 33.95806526375511 %\n",
      "Lasso Regression: average MAPE is 34.08527443554535 %\n"
     ]
    }
   ],
   "source": [
    "lr_mape=[]\n",
    "rr_mape=[]\n",
    "lar_mape=[]\n",
    "\n",
    "for train_index, test_index in kf.split(x):\n",
    "    x_train, x_test = x[train_index], x[test_index]\n",
    "    y_train, y_test = y[train_index], y[test_index]\n",
    "    \n",
    "    lr = linear.LinearRegression()\n",
    "    lr.fit(x_train, y_train)\n",
    "    predictions_lr = lr.predict(x_test)\n",
    "    error = MAPE(y_test, predictions_lr)\n",
    "    lr_mape.append(error)\n",
    "    \n",
    "    rr=linear.Ridge()\n",
    "    rr.fit(x_train, y_train)\n",
    "    predictions_rr = rr.predict(x_test)\n",
    "    error = MAPE(y_test, predictions_rr)\n",
    "    rr_mape.append(error)\n",
    "    \n",
    "    lar = linear.Lasso()\n",
    "    lar.fit(x_train, y_train)\n",
    "    predictions_lar = lar.predict(x_test)\n",
    "    error = MAPE(y_test, predictions_lar)\n",
    "    lar_mape.append(error)\n",
    "    \n",
    "    \n",
    "print('Linear Regression: average MAPE is', np.mean(lr_mape),\"%\")\n",
    "print('Ridge Regression: average MAPE is', np.mean(rr_mape),\"%\")\n",
    "print('Lasso Regression: average MAPE is', np.mean(lar_mape),\"%\")"
   ]
  },
  {
   "cell_type": "code",
   "execution_count": null,
   "metadata": {},
   "outputs": [],
   "source": []
  }
 ],
 "metadata": {
  "kernelspec": {
   "display_name": "Python 3",
   "language": "python",
   "name": "python3"
  },
  "language_info": {
   "codemirror_mode": {
    "name": "ipython",
    "version": 3
   },
   "file_extension": ".py",
   "mimetype": "text/x-python",
   "name": "python",
   "nbconvert_exporter": "python",
   "pygments_lexer": "ipython3",
   "version": "3.7.4"
  }
 },
 "nbformat": 4,
 "nbformat_minor": 2
}
