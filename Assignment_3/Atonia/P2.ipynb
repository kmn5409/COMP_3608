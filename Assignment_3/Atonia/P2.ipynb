{
 "cells": [
  {
   "cell_type": "code",
   "execution_count": 1,
   "metadata": {},
   "outputs": [
    {
     "name": "stdout",
     "output_type": "stream",
     "text": [
      "Populating the interactive namespace from numpy and matplotlib\n"
     ]
    }
   ],
   "source": [
    "%pylab inline\n",
    "import numpy as np\n",
    "import sklearn.linear_model as linear\n",
    "from sklearn.linear_model import LogisticRegression\n",
    "import sklearn.model_selection as selection\n",
    "import sklearn.metrics as metrics\n",
    "from sklearn.preprocessing import LabelEncoder\n",
    "from sklearn.preprocessing import StandardScaler\n",
    "import sklearn.datasets as datasets\n",
    "import pandas as pd\n",
    "import torch as th\n",
    "import torch.nn as nn\n",
    "import torch.optim as optim\n",
    "\n",
    "import scipy.stats as stats"
   ]
  },
  {
   "cell_type": "code",
   "execution_count": 2,
   "metadata": {},
   "outputs": [],
   "source": [
    "class MoonModel(nn.Module):\n",
    "    def __init__(self):\n",
    "        super().__init__()\n",
    "        self.loss_func = nn.BCELoss()\n",
    "        \n",
    "    def forward(self, X):\n",
    "        return None \n",
    "    \n",
    "    def loss(self, X, y):\n",
    "        probs = self.forward(X)\n",
    "        return self.loss_func(probs, y)\n",
    "    \n",
    "    def predict_proba(self, X, as_numpy=False):\n",
    "        res = self.forward(X)\n",
    "        if as_numpy:\n",
    "            res = res.detach().numpy()\n",
    "        return res\n",
    "    \n",
    "    def predict(self, X, threshold=0.5, as_numpy=False):\n",
    "        probs = self.predict_proba(X, as_numpy)\n",
    "        return probs > threshold\n",
    "    \n",
    "    def fit(self, X, y, epochs=1000, lr=0.1, lam=0):\n",
    "        optimizer = optim.RMSprop(self.parameters(), lr=lr)\n",
    "        loss_curve = []\n",
    "        for _ in range(epochs):\n",
    "            optimizer.zero_grad()\n",
    "            loss_val = self.loss(X, y) + self.regularize(lam)\n",
    "            loss_curve.append(loss_val.data.item())\n",
    "            loss_val.backward()\n",
    "            optimizer.step()\n",
    "        return loss_curve\n",
    "    \n",
    "    def regularize(self, lam):\n",
    "        loss_val = 0\n",
    "        for p in self.parameters():\n",
    "            loss_val += lam * th.norm(p)\n",
    "        return loss_val"
   ]
  },
  {
   "cell_type": "code",
   "execution_count": 3,
   "metadata": {},
   "outputs": [],
   "source": [
    "class NN1Model(MoonModel):\n",
    "    def __init__(self):\n",
    "        super().__init__()\n",
    "        self.l1 = nn.Linear(9, 2, bias=True)\n",
    "        self.act1 = nn.Sigmoid()\n",
    "        self.l2 = nn.Linear(2, 1, bias=True)\n",
    "        self.act2 = nn.Sigmoid()\n",
    "        \n",
    "    \n",
    "    def forward(self, X):\n",
    "        res = self.l1(X)\n",
    "        res = self.act1(res)\n",
    "        res = self.l2(res)\n",
    "        res = self.act2(res)\n",
    "        return res"
   ]
  },
  {
   "cell_type": "code",
   "execution_count": 4,
   "metadata": {},
   "outputs": [],
   "source": [
    "def plot_loss(loss_curve):\n",
    "    plt.plot(list(range(len(loss_curve))), loss_curve)"
   ]
  },
  {
   "cell_type": "code",
   "execution_count": 5,
   "metadata": {},
   "outputs": [],
   "source": [
    "df = pd.read_csv('breast-cancer-wisconsin.data', header=None)\n",
    "\n",
    "for i in df:\n",
    "    df[i]=df[i].replace('?', np.nan)\n",
    "    df[i].fillna(df[i].mode()[0], inplace=True)\n",
    "    df[i]=df[i].astype(int)\n",
    "    "
   ]
  },
  {
   "cell_type": "code",
   "execution_count": 6,
   "metadata": {},
   "outputs": [
    {
     "name": "stdout",
     "output_type": "stream",
     "text": [
      "     1   2   3  4  5   6   7   8  9\n",
      "0    5   1   1  1  2   1   3   1  1\n",
      "1    5   4   4  5  7  10   3   2  1\n",
      "2    3   1   1  1  2   2   3   1  1\n",
      "3    6   8   8  1  3   4   3   7  1\n",
      "4    4   1   1  3  2   1   3   1  1\n",
      "..  ..  ..  .. .. ..  ..  ..  .. ..\n",
      "694  3   1   1  1  3   2   1   1  1\n",
      "695  2   1   1  1  2   1   1   1  1\n",
      "696  5  10  10  3  7   3   8  10  2\n",
      "697  4   8   6  4  3   4  10   6  1\n",
      "698  4   8   8  5  4   5  10   4  1\n",
      "\n",
      "[699 rows x 9 columns]\n"
     ]
    }
   ],
   "source": [
    "le = LabelEncoder()\n",
    "\n",
    "target=df[10]\n",
    "inputs=df.drop([0,10], axis=1)\n",
    "print(inputs)\n",
    "le.fit(target)\n",
    "target=le.transform(target)\n",
    "\n",
    "scaler = StandardScaler()\n",
    "scaler.fit(inputs)\n",
    "inputs = scaler.transform(inputs)"
   ]
  },
  {
   "cell_type": "code",
   "execution_count": 7,
   "metadata": {},
   "outputs": [
    {
     "data": {
      "image/png": "[encoded data removed]",
      "text/plain": [
       "<Figure size 432x288 with 1 Axes>"
      ]
     },
     "metadata": {
      "needs_background": "light"
     },
     "output_type": "display_data"
    }
   ],
   "source": [
    "kf = selection.KFold(n_splits=5, shuffle=True)\n",
    "kf.get_n_splits(inputs)\n",
    "\n",
    "\n",
    "#logistic regression\n",
    "f1_lr=[]\n",
    "prec_lr=[]\n",
    "rec_lr=[]\n",
    "acc_lr=[]\n",
    "\n",
    "#neural network\n",
    "\n",
    "f1_nn=[]\n",
    "prec_nn=[]\n",
    "rec_nn=[]\n",
    "acc_nn=[]\n",
    "\n",
    "for train_index, test_index in kf.split(inputs):\n",
    "    X_train, X_test, y_train, y_test = inputs[train_index], inputs[test_index], target[train_index], target[test_index]\n",
    "    \n",
    "    #logistic regression\n",
    "    logreg = LogisticRegression(solver='lbfgs')\n",
    "    logreg.fit(X_train, y_train)\n",
    "    pred = logreg.predict(X_test)\n",
    "    f1_lr.append(metrics.f1_score(y_test, pred))\n",
    "    prec_lr.append(metrics.precision_score(y_test, pred))\n",
    "    rec_lr.append(metrics.recall_score(y_test, pred))\n",
    "    acc_lr.append(metrics.accuracy_score(y_test, pred))\n",
    "    \n",
    "    X_train = th.tensor(X_train, dtype=th.float32)\n",
    "    X_test = th.tensor(X_test,dtype=th.float32)\n",
    "    y_train = th.tensor(y_train, dtype=th.float32).view(-1, 1)\n",
    "    y_test = th.tensor(y_test, dtype=th.float32).view(-1, 1)\n",
    "    \n",
    "    #neural network\n",
    "    model = NN1Model()\n",
    "    curve = model.fit(X_train, y_train, lr=0.007, lam=0.01)\n",
    "    plot_loss(curve)\n",
    "    predictions = model.predict(X_test, as_numpy=True)\n",
    "    f1_nn.append(metrics.f1_score(y_test, predictions))\n",
    "    prec_nn.append(metrics.precision_score(y_test, pred))\n",
    "    rec_nn.append(metrics.recall_score(y_test, pred))\n",
    "    acc_nn.append(metrics.accuracy_score(y_test, pred))"
   ]
  },
  {
   "cell_type": "code",
   "execution_count": 8,
   "metadata": {},
   "outputs": [
    {
     "name": "stdout",
     "output_type": "stream",
     "text": [
      "Linear Regression\n",
      "xxxxxxxxxxxxxxxxxxxxxxxxxxxxxxxxxxxxxxx\n",
      "Average F1 Score:  95.20201321334619 %\n",
      "Average Precision:  95.22923877561361 %\n",
      "Average Recall:  95.2920238802592 %\n",
      "Average Accuracy:  95.2920238802592 %\n"
     ]
    }
   ],
   "source": [
    "print(\"Linear Regression\")\n",
    "print(\"xxxxxxxxxxxxxxxxxxxxxxxxxxxxxxxxxxxxxxx\")\n",
    "print(\"Average F1 Score: \", np.mean(f1_lr)*100,\"%\")\n",
    "print(\"Average Precision: \", np.mean(prec_lr)*100,\"%\")\n",
    "print(\"Average Recall: \", np.mean(rec_lr)*100,\"%\")\n",
    "print(\"Average Accuracy: \", np.mean(rec_lr)*100,\"%\")"
   ]
  },
  {
   "cell_type": "code",
   "execution_count": 9,
   "metadata": {
    "scrolled": true
   },
   "outputs": [
    {
     "name": "stdout",
     "output_type": "stream",
     "text": [
      "Neural Network\n",
      "xxxxxxxxxxxxxxxxxxxxxxxxxxxxxxxxxxxxxxx\n",
      "Average F1 Score:  95.4407497120607 %\n",
      "Average Precision:  95.22923877561361 %\n",
      "Average Recall:  95.2920238802592 %\n",
      "Average Accuracy:  95.2920238802592 %\n"
     ]
    }
   ],
   "source": [
    "print(\"Neural Network\")\n",
    "print(\"xxxxxxxxxxxxxxxxxxxxxxxxxxxxxxxxxxxxxxx\")\n",
    "print(\"Average F1 Score: \", np.mean(f1_nn)*100,\"%\")\n",
    "print(\"Average Precision: \", np.mean(prec_nn)*100,\"%\")\n",
    "print(\"Average Recall: \", np.mean(rec_nn)*100,\"%\")\n",
    "print(\"Average Accuracy: \", np.mean(rec_nn)*100,\"%\")"
   ]
  },
  {
   "cell_type": "code",
   "execution_count": 10,
   "metadata": {},
   "outputs": [
    {
     "name": "stdout",
     "output_type": "stream",
     "text": [
      "T Test Result:  Ttest_relResult(statistic=-0.5566677575557654, pvalue=0.6074278530855615)\n"
     ]
    }
   ],
   "source": [
    "print(\"T Test Result: \",stats.ttest_rel(f1_lr, f1_nn))"
   ]
  },
  {
   "cell_type": "markdown",
   "metadata": {},
   "source": [
    "In terms of precision, recall and accuracy, logistic regression and the neural network model performed almost equally.  In terms of F1, which considers both the precision and recall of the respective models, the Neural Network performed better.  However, the difference in performance of the two models is not significant.  With a p value above 0.1 while using a 0.05 significance level, we cannot reject that the models performed the same.  There is no statistically significant difference between the two models.  This is because with only one hidden layer, the neural network is not very complex and behaves much like the logistic regression classifier.  "
   ]
  },
  {
   "cell_type": "code",
   "execution_count": null,
   "metadata": {},
   "outputs": [],
   "source": []
  }
 ],
 "metadata": {
  "kernelspec": {
   "display_name": "Python 3",
   "language": "python",
   "name": "python3"
  },
  "language_info": {
   "codemirror_mode": {
    "name": "ipython",
    "version": 3
   },
   "file_extension": ".py",
   "mimetype": "text/x-python",
   "name": "python",
   "nbconvert_exporter": "python",
   "pygments_lexer": "ipython3",
   "version": "3.7.4"
  }
 },
 "nbformat": 4,
 "nbformat_minor": 2
}
