{
 "cells": [
  {
   "cell_type": "code",
   "execution_count": 1,
   "metadata": {},
   "outputs": [
    {
     "name": "stdout",
     "output_type": "stream",
     "text": [
      "Populating the interactive namespace from numpy and matplotlib\n"
     ]
    }
   ],
   "source": [
    "%pylab inline\n",
    "import numpy as np\n",
    "import sklearn.linear_model as linear\n",
    "from sklearn.linear_model import LogisticRegression\n",
    "import sklearn.model_selection as selection\n",
    "import sklearn.metrics as metrics\n",
    "from sklearn.preprocessing import LabelEncoder\n",
    "from sklearn.preprocessing import StandardScaler\n",
    "import sklearn.datasets as datasets\n",
    "import pandas as pd\n",
    "import torch as th\n",
    "import torch.nn as nn\n",
    "import torch.optim as optim\n",
    "\n",
    "import scipy.stats as stats"
   ]
  },
  {
   "cell_type": "code",
   "execution_count": 2,
   "metadata": {},
   "outputs": [],
   "source": [
    "class MoonModel(nn.Module):\n",
    "    def __init__(self):\n",
    "        super().__init__()\n",
    "        self.loss_func = nn.BCELoss()\n",
    "        \n",
    "    def forward(self, X):\n",
    "        return None \n",
    "    \n",
    "    def loss(self, X, y):\n",
    "        probs = self.forward(X)\n",
    "        return self.loss_func(probs, y)\n",
    "    \n",
    "    def predict_proba(self, X, as_numpy=False):\n",
    "        res = self.forward(X)\n",
    "        if as_numpy:\n",
    "            res = res.detach().numpy()\n",
    "        return res\n",
    "    \n",
    "    def predict(self, X, threshold=0.5, as_numpy=False):\n",
    "        probs = self.predict_proba(X, as_numpy)\n",
    "        return probs > threshold\n",
    "    \n",
    "    def fit(self, X, y, epochs=1000, lr=0.1, lam=0):\n",
    "        optimizer = optim.RMSprop(self.parameters(), lr=lr)\n",
    "        loss_curve = []\n",
    "        for _ in range(epochs):\n",
    "            optimizer.zero_grad()\n",
    "            loss_val = self.loss(X, y) + self.regularize(lam)\n",
    "            loss_curve.append(loss_val.data.item())\n",
    "            loss_val.backward()\n",
    "            optimizer.step()\n",
    "        return loss_curve\n",
    "    \n",
    "    def regularize(self, lam):\n",
    "        loss_val = 0\n",
    "        for p in self.parameters():\n",
    "            loss_val += lam * th.norm(p)\n",
    "        return loss_val"
   ]
  },
  {
   "cell_type": "code",
   "execution_count": 3,
   "metadata": {},
   "outputs": [],
   "source": [
    "class NN1Model(MoonModel):\n",
    "    def __init__(self):\n",
    "        super().__init__()\n",
    "        self.l1 = nn.Linear(30, 2, bias=True)\n",
    "        self.act1 = nn.Sigmoid()\n",
    "        self.l2 = nn.Linear(2, 1, bias=True)\n",
    "        self.act2 = nn.Sigmoid()\n",
    "        \n",
    "    \n",
    "    def forward(self, X):\n",
    "        res = self.l1(X)\n",
    "        res = self.act1(res)\n",
    "        res = self.l2(res)\n",
    "        res = self.act2(res)\n",
    "        return res"
   ]
  },
  {
   "cell_type": "code",
   "execution_count": 4,
   "metadata": {},
   "outputs": [],
   "source": [
    "def plot_loss(loss_curve):\n",
    "    plt.plot(list(range(len(loss_curve))), loss_curve)"
   ]
  },
  {
   "cell_type": "code",
   "execution_count": 5,
   "metadata": {},
   "outputs": [],
   "source": [
    "df = pd.read_csv('wdbc.data', header=None)\n",
    "\n",
    "for i in df:\n",
    "    df[i]=df[i].replace('?', np.nan)\n",
    "    df[i].fillna(df[i].mode()[0], inplace=True)"
   ]
  },
  {
   "cell_type": "code",
   "execution_count": 6,
   "metadata": {},
   "outputs": [
    {
     "name": "stdout",
     "output_type": "stream",
     "text": [
      "        2      3       4       5        6        7        8        9       10  \\\n",
      "0    17.99  10.38  122.80  1001.0  0.11840  0.27760  0.30010  0.14710  0.2419   \n",
      "1    20.57  17.77  132.90  1326.0  0.08474  0.07864  0.08690  0.07017  0.1812   \n",
      "2    19.69  21.25  130.00  1203.0  0.10960  0.15990  0.19740  0.12790  0.2069   \n",
      "3    11.42  20.38   77.58   386.1  0.14250  0.28390  0.24140  0.10520  0.2597   \n",
      "4    20.29  14.34  135.10  1297.0  0.10030  0.13280  0.19800  0.10430  0.1809   \n",
      "..     ...    ...     ...     ...      ...      ...      ...      ...     ...   \n",
      "564  21.56  22.39  142.00  1479.0  0.11100  0.11590  0.24390  0.13890  0.1726   \n",
      "565  20.13  28.25  131.20  1261.0  0.09780  0.10340  0.14400  0.09791  0.1752   \n",
      "566  16.60  28.08  108.30   858.1  0.08455  0.10230  0.09251  0.05302  0.1590   \n",
      "567  20.60  29.33  140.10  1265.0  0.11780  0.27700  0.35140  0.15200  0.2397   \n",
      "568   7.76  24.54   47.92   181.0  0.05263  0.04362  0.00000  0.00000  0.1587   \n",
      "\n",
      "          11  ...      22     23      24      25       26       27      28  \\\n",
      "0    0.07871  ...  25.380  17.33  184.60  2019.0  0.16220  0.66560  0.7119   \n",
      "1    0.05667  ...  24.990  23.41  158.80  1956.0  0.12380  0.18660  0.2416   \n",
      "2    0.05999  ...  23.570  25.53  152.50  1709.0  0.14440  0.42450  0.4504   \n",
      "3    0.09744  ...  14.910  26.50   98.87   567.7  0.20980  0.86630  0.6869   \n",
      "4    0.05883  ...  22.540  16.67  152.20  1575.0  0.13740  0.20500  0.4000   \n",
      "..       ...  ...     ...    ...     ...     ...      ...      ...     ...   \n",
      "564  0.05623  ...  25.450  26.40  166.10  2027.0  0.14100  0.21130  0.4107   \n",
      "565  0.05533  ...  23.690  38.25  155.00  1731.0  0.11660  0.19220  0.3215   \n",
      "566  0.05648  ...  18.980  34.12  126.70  1124.0  0.11390  0.30940  0.3403   \n",
      "567  0.07016  ...  25.740  39.42  184.60  1821.0  0.16500  0.86810  0.9387   \n",
      "568  0.05884  ...   9.456  30.37   59.16   268.6  0.08996  0.06444  0.0000   \n",
      "\n",
      "         29      30       31  \n",
      "0    0.2654  0.4601  0.11890  \n",
      "1    0.1860  0.2750  0.08902  \n",
      "2    0.2430  0.3613  0.08758  \n",
      "3    0.2575  0.6638  0.17300  \n",
      "4    0.1625  0.2364  0.07678  \n",
      "..      ...     ...      ...  \n",
      "564  0.2216  0.2060  0.07115  \n",
      "565  0.1628  0.2572  0.06637  \n",
      "566  0.1418  0.2218  0.07820  \n",
      "567  0.2650  0.4087  0.12400  \n",
      "568  0.0000  0.2871  0.07039  \n",
      "\n",
      "[569 rows x 30 columns]\n"
     ]
    }
   ],
   "source": [
    "le = LabelEncoder()\n",
    "\n",
    "target=df[1]\n",
    "inputs=df.drop([0,1], axis=1)\n",
    "print(inputs)\n",
    "le.fit(target)\n",
    "target=le.transform(target)\n",
    "\n",
    "scaler = StandardScaler()\n",
    "scaler.fit(inputs)\n",
    "inputs = scaler.transform(inputs)"
   ]
  },
  {
   "cell_type": "code",
   "execution_count": 7,
   "metadata": {},
   "outputs": [
    {
     "data": {
      "image/png": "[encoded data removed]",
      "text/plain": [
       "<Figure size 432x288 with 1 Axes>"
      ]
     },
     "metadata": {
      "needs_background": "light"
     },
     "output_type": "display_data"
    }
   ],
   "source": [
    "kf = selection.KFold(n_splits=5, shuffle=True)\n",
    "kf.get_n_splits(inputs)\n",
    "\n",
    "\n",
    "#logistic regression\n",
    "f1_lr=[]\n",
    "prec_lr=[]\n",
    "rec_lr=[]\n",
    "acc_lr=[]\n",
    "\n",
    "#neural network\n",
    "\n",
    "f1_nn=[]\n",
    "prec_nn=[]\n",
    "rec_nn=[]\n",
    "acc_nn=[]\n",
    "\n",
    "for train_index, test_index in kf.split(inputs):\n",
    "    X_train, X_test, y_train, y_test = inputs[train_index], inputs[test_index], target[train_index], target[test_index]\n",
    "    \n",
    "    #logistic regression\n",
    "    logreg = LogisticRegression(solver='lbfgs')\n",
    "    logreg.fit(X_train, y_train)\n",
    "    pred = logreg.predict(X_test)\n",
    "    f1_lr.append(metrics.f1_score(y_test, pred))\n",
    "    prec_lr.append(metrics.precision_score(y_test, pred))\n",
    "    rec_lr.append(metrics.recall_score(y_test, pred))\n",
    "    acc_lr.append(metrics.accuracy_score(y_test, pred))\n",
    "    \n",
    "    X_train = th.tensor(X_train, dtype=th.float32)\n",
    "    X_test = th.tensor(X_test,dtype=th.float32)\n",
    "    y_train = th.tensor(y_train, dtype=th.float32).view(-1, 1)\n",
    "    y_test = th.tensor(y_test, dtype=th.float32).view(-1, 1)\n",
    "    \n",
    "    #neural network\n",
    "    model = NN1Model()\n",
    "    curve = model.fit(X_train, y_train, lr=0.007, lam=0.01)\n",
    "    plot_loss(curve)\n",
    "    predictions = model.predict(X_test, as_numpy=True)\n",
    "    f1_nn.append(metrics.f1_score(y_test, predictions))\n",
    "    prec_nn.append(metrics.precision_score(y_test, pred))\n",
    "    rec_nn.append(metrics.recall_score(y_test, pred))\n",
    "    acc_nn.append(metrics.accuracy_score(y_test, pred))"
   ]
  },
  {
   "cell_type": "code",
   "execution_count": 8,
   "metadata": {},
   "outputs": [
    {
     "name": "stdout",
     "output_type": "stream",
     "text": [
      "Linear Regression\n",
      "xxxxxxxxxxxxxxxxxxxxxxxxxxxxxxxxxxxxxxx\n",
      "Average F1 Score:  97.05238536563836 %\n",
      "Average Precision:  97.9981684981685 %\n",
      "Average Recall:  96.16151290569896 %\n",
      "Average Accuracy:  96.16151290569896 %\n"
     ]
    }
   ],
   "source": [
    "print(\"Linear Regression\")\n",
    "print(\"xxxxxxxxxxxxxxxxxxxxxxxxxxxxxxxxxxxxxxx\")\n",
    "print(\"Average F1 Score: \", np.mean(f1_lr)*100,\"%\")\n",
    "print(\"Average Precision: \", np.mean(prec_lr)*100,\"%\")\n",
    "print(\"Average Recall: \", np.mean(rec_lr)*100,\"%\")\n",
    "print(\"Average Accuracy: \", np.mean(rec_lr)*100,\"%\")"
   ]
  },
  {
   "cell_type": "code",
   "execution_count": 9,
   "metadata": {
    "scrolled": true
   },
   "outputs": [
    {
     "name": "stdout",
     "output_type": "stream",
     "text": [
      "Neural Network\n",
      "xxxxxxxxxxxxxxxxxxxxxxxxxxxxxxxxxxxxxxx\n",
      "Average F1 Score:  96.79200317754535 %\n",
      "Average Precision:  97.9981684981685 %\n",
      "Average Recall:  96.16151290569896 %\n",
      "Average Accuracy:  96.16151290569896 %\n"
     ]
    }
   ],
   "source": [
    "print(\"Neural Network\")\n",
    "print(\"xxxxxxxxxxxxxxxxxxxxxxxxxxxxxxxxxxxxxxx\")\n",
    "print(\"Average F1 Score: \", np.mean(f1_nn)*100,\"%\")\n",
    "print(\"Average Precision: \", np.mean(prec_nn)*100,\"%\")\n",
    "print(\"Average Recall: \", np.mean(rec_nn)*100,\"%\")\n",
    "print(\"Average Accuracy: \", np.mean(rec_nn)*100,\"%\")"
   ]
  },
  {
   "cell_type": "code",
   "execution_count": 10,
   "metadata": {},
   "outputs": [
    {
     "name": "stdout",
     "output_type": "stream",
     "text": [
      "T Test Result:  Ttest_relResult(statistic=0.41617876059147024, pvalue=0.6986396901500991)\n"
     ]
    }
   ],
   "source": [
    "print(\"T Test Result: \",stats.ttest_rel(f1_lr, f1_nn))"
   ]
  },
  {
   "cell_type": "markdown",
   "metadata": {},
   "source": [
    "In terms of precision, recall and accuracy, logistic regression and the neural network model performed almost equally.  In terms of F1, which considers both the precision and recall of the respective models, the Neural Network performed better.  However, the difference in performance of the two models is not significant.  With a p value above 0.1, we cannot reject that the models performed the same.  There is no statistically significant difference between the two models.  This is because with only one hidden layer, the neural network is not very complex and behaves much like the logistic regression classifier.  "
   ]
  },
  {
   "cell_type": "code",
   "execution_count": null,
   "metadata": {},
   "outputs": [],
   "source": []
  }
 ],
 "metadata": {
  "kernelspec": {
   "display_name": "Python 3",
   "language": "python",
   "name": "python3"
  },
  "language_info": {
   "codemirror_mode": {
    "name": "ipython",
    "version": 3
   },
   "file_extension": ".py",
   "mimetype": "text/x-python",
   "name": "python",
   "nbconvert_exporter": "python",
   "pygments_lexer": "ipython3",
   "version": "3.7.4"
  }
 },
 "nbformat": 4,
 "nbformat_minor": 2
}
