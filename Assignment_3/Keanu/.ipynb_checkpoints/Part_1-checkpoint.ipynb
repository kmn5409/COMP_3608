{
 "cells": [
  {
   "cell_type": "code",
   "execution_count": 1,
   "metadata": {},
   "outputs": [
    {
     "name": "stdout",
     "output_type": "stream",
     "text": [
      "(53940, 7)\n",
      "(53940,)\n"
     ]
    }
   ],
   "source": [
    "import matplotlib.pyplot as plt\n",
    "import numpy as np\n",
    "import sklearn.linear_model as linear\n",
    "from sklearn.metrics import mean_squared_error, r2_score\n",
    "import sklearn.model_selection as selection\n",
    "\n",
    "# Load the diabetes dataset\n",
    "X = np.load(\"X.npy\")\n",
    "y = np.load(\"y.npy\")\n",
    "print(X.shape)\n",
    "print(y.shape)\n",
    "#diabetes_X, diabetes_y = datasets.load_diabetes(return_X_y=True)\n",
    "\n",
    "# Use only one feature\n",
    "#diabetes_X = diabetes_X[:, np.newaxis, 2]\n",
    "\n",
    "# Split the data into training/testing sets\n",
    "#diabetes_X_train = diabetes_X[:-20]\n",
    "#diabetes_X_test = diabetes_X[-20:]"
   ]
  },
  {
   "cell_type": "code",
   "execution_count": 2,
   "metadata": {},
   "outputs": [],
   "source": [
    "def mean_ape(actual, predicted):\n",
    "    diff = np.abs(actual - predicted)\n",
    "    factor = diff / actual\n",
    "    return np.mean(factor)"
   ]
  },
  {
   "cell_type": "code",
   "execution_count": 3,
   "metadata": {},
   "outputs": [
    {
     "data": {
      "text/plain": [
       "5"
      ]
     },
     "execution_count": 3,
     "metadata": {},
     "output_type": "execute_result"
    }
   ],
   "source": [
    "kf = selection.KFold(n_splits=5, shuffle=True)\n",
    "kf.get_n_splits(X)"
   ]
  },
  {
   "cell_type": "code",
   "execution_count": 4,
   "metadata": {},
   "outputs": [
    {
     "name": "stdout",
     "output_type": "stream",
     "text": [
      "Linear Regiression:\n",
      "Average mape is  0.3393402757651037\n"
     ]
    }
   ],
   "source": [
    "mape = []\n",
    "for train_index, test_index in kf.split(X):\n",
    "    X_train, X_test = X[train_index], X[test_index]\n",
    "    y_train, y_test = y[train_index], y[test_index]\n",
    "    lr = linear.LinearRegression()\n",
    "    lr.fit(X_train, y_train)\n",
    "    predictions = lr.predict(X_test)\n",
    "    error = mean_ape(y_test, predictions)\n",
    "    #print(error)\n",
    "    mape.append(error)\n",
    "print(\"Linear Regiression:\")\n",
    "print('Average mape is ', np.mean(mape))"
   ]
  },
  {
   "cell_type": "code",
   "execution_count": 5,
   "metadata": {},
   "outputs": [
    {
     "name": "stdout",
     "output_type": "stream",
     "text": [
      "Lasso Regression\n",
      "Average mape is  0.3409622147229682\n"
     ]
    }
   ],
   "source": [
    "mape = []\n",
    "for train_index, test_index in kf.split(X):\n",
    "    X_train, X_test = X[train_index], X[test_index]\n",
    "    y_train, y_test = y[train_index], y[test_index]\n",
    "    lr = linear.Lasso()\n",
    "    lr.fit(X_train, y_train)\n",
    "    predictions = lr.predict(X_test)\n",
    "    error = mean_ape(y_test, predictions)\n",
    "    #print(error)\n",
    "    mape.append(error)\n",
    "print(\"Lasso Regression\")\n",
    "print('Average mape is ', np.mean(mape))"
   ]
  },
  {
   "cell_type": "code",
   "execution_count": 6,
   "metadata": {},
   "outputs": [
    {
     "name": "stdout",
     "output_type": "stream",
     "text": [
      "Ridge Regression\n",
      "Average mape is  0.34119745311378147\n"
     ]
    }
   ],
   "source": [
    "mape = []\n",
    "for train_index, test_index in kf.split(X):\n",
    "    X_train, X_test = X[train_index], X[test_index]\n",
    "    y_train, y_test = y[train_index], y[test_index]\n",
    "    lr = linear.Ridge()\n",
    "    lr.fit(X_train, y_train)\n",
    "    predictions = lr.predict(X_test)\n",
    "    error = mean_ape(y_test, predictions)\n",
    "    #print(error)\n",
    "    mape.append(error)\n",
    "print(\"Ridge Regression\")\n",
    "print('Average mape is ', np.mean(mape))"
   ]
  }
 ],
 "metadata": {
  "kernelspec": {
   "display_name": "Python 3",
   "language": "python",
   "name": "python3"
  },
  "language_info": {
   "codemirror_mode": {
    "name": "ipython",
    "version": 3
   },
   "file_extension": ".py",
   "mimetype": "text/x-python",
   "name": "python",
   "nbconvert_exporter": "python",
   "pygments_lexer": "ipython3",
   "version": "3.5.2"
  }
 },
 "nbformat": 4,
 "nbformat_minor": 2
}
