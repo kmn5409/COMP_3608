{
 "cells": [
  {
   "cell_type": "code",
   "execution_count": 1,
   "metadata": {},
   "outputs": [
    {
     "name": "stdout",
     "output_type": "stream",
     "text": [
      "Populating the interactive namespace from numpy and matplotlib\n"
     ]
    }
   ],
   "source": [
    "%pylab inline\n",
    "import numpy as np\n",
    "import sklearn.linear_model as linear\n",
    "import sklearn.model_selection as selection\n",
    "from sklearn.model_selection import StratifiedKFold, KFold\n",
    "import sklearn.metrics as metrics\n",
    "import sklearn.datasets as datasets\n",
    "from sklearn.preprocessing import StandardScaler, LabelEncoder\n",
    "\n",
    "import torch as th\n",
    "import torch.nn as nn\n",
    "import torch.optim as optim\n",
    "\n",
    "import scipy.stats as stats\n",
    "import pandas as pd\n",
    "#https://www.kaggle.com/super13579/pytorch-nn-cyclelr-k-fold-0-897-lightgbm-0-899"
   ]
  },
  {
   "cell_type": "code",
   "execution_count": 2,
   "metadata": {},
   "outputs": [],
   "source": [
    "columns=['id','thickness','uniformity_cell_size','uniformity_cell_shape','marginal_adhesion','single_epithelial_cell_size','bare_nuclei','bland_chromatin','normal_nucleoli','mitoses','class']\n",
    "X = pd.read_csv('breast-cancer-wisconsin.data',names=columns,na_values=['?'])\n",
    "#X = pd.read_csv('breast-cancer-wisconsin.data')"
   ]
  },
  {
   "cell_type": "code",
   "execution_count": 3,
   "metadata": {},
   "outputs": [
    {
     "name": "stdout",
     "output_type": "stream",
     "text": [
      "id                              0\n",
      "thickness                       0\n",
      "uniformity_cell_size            0\n",
      "uniformity_cell_shape           0\n",
      "marginal_adhesion               0\n",
      "single_epithelial_cell_size     0\n",
      "bare_nuclei                    16\n",
      "bland_chromatin                 0\n",
      "normal_nucleoli                 0\n",
      "mitoses                         0\n",
      "class                           0\n",
      "dtype: int64\n",
      "True\n",
      "16\n"
     ]
    }
   ],
   "source": [
    "print(X.isnull().sum())\n",
    "print(X.isnull().values.any())\n",
    "print(X.isnull().sum().sum())\n",
    "#Replace using median\n",
    "median = X['bare_nuclei'].median()\n",
    "X['bare_nuclei'].fillna(median, inplace=True)"
   ]
  },
  {
   "cell_type": "code",
   "execution_count": 4,
   "metadata": {},
   "outputs": [
    {
     "name": "stdout",
     "output_type": "stream",
     "text": [
      "        id  thickness  uniformity_cell_size  uniformity_cell_shape  \\\n",
      "0  1000025          5                     1                      1   \n",
      "1  1002945          5                     4                      4   \n",
      "2  1015425          3                     1                      1   \n",
      "3  1016277          6                     8                      8   \n",
      "4  1017023          4                     1                      1   \n",
      "\n",
      "   marginal_adhesion  single_epithelial_cell_size  bare_nuclei  \\\n",
      "0                  1                            2          1.0   \n",
      "1                  5                            7         10.0   \n",
      "2                  1                            2          2.0   \n",
      "3                  1                            3          4.0   \n",
      "4                  3                            2          1.0   \n",
      "\n",
      "   bland_chromatin  normal_nucleoli  mitoses  class  \n",
      "0                3                1        1      2  \n",
      "1                3                2        1      2  \n",
      "2                3                1        1      2  \n",
      "3                3                7        1      2  \n",
      "4                3                1        1      2  \n",
      "(699, 11)\n",
      "   thickness  uniformity_cell_size  uniformity_cell_shape  marginal_adhesion  \\\n",
      "0          5                     1                      1                  1   \n",
      "1          5                     4                      4                  5   \n",
      "2          3                     1                      1                  1   \n",
      "3          6                     8                      8                  1   \n",
      "4          4                     1                      1                  3   \n",
      "\n",
      "   single_epithelial_cell_size  bare_nuclei  bland_chromatin  normal_nucleoli  \\\n",
      "0                            2          1.0                3                1   \n",
      "1                            7         10.0                3                2   \n",
      "2                            2          2.0                3                1   \n",
      "3                            3          4.0                3                7   \n",
      "4                            2          1.0                3                1   \n",
      "\n",
      "   mitoses  \n",
      "0        1  \n",
      "1        1  \n",
      "2        1  \n",
      "3        1  \n",
      "4        1  \n",
      "(699, 9)\n"
     ]
    }
   ],
   "source": [
    "print(X.head())\n",
    "print(X.shape)\n",
    "X.drop(X.columns[0],axis=1,inplace=True)\n",
    "y = X['class']\n",
    "X.drop(['class'], axis=1, inplace=True)\n",
    "print(X.head())\n",
    "print(X.shape)"
   ]
  },
  {
   "cell_type": "code",
   "execution_count": 5,
   "metadata": {},
   "outputs": [],
   "source": [
    "le = LabelEncoder()\n",
    "le.fit(y)\n",
    "y = le.transform(y)\n",
    "y = pd.DataFrame(data=y, columns=['class'])"
   ]
  },
  {
   "cell_type": "code",
   "execution_count": 6,
   "metadata": {},
   "outputs": [],
   "source": [
    "sc = StandardScaler()\n",
    "X = sc.fit_transform(X)\n",
    "X = np.array(X)\n",
    "y = np.array(y)"
   ]
  },
  {
   "cell_type": "code",
   "execution_count": 7,
   "metadata": {},
   "outputs": [],
   "source": [
    "class MoonModel(nn.Module):\n",
    "    def __init__(self):\n",
    "        super().__init__()\n",
    "        self.loss_func = nn.BCELoss()\n",
    "        \n",
    "    def forward(self, X):\n",
    "        return None \n",
    "    \n",
    "    def loss(self, X, y):\n",
    "        probs = self.forward(X)\n",
    "        return self.loss_func(probs, y)\n",
    "    \n",
    "    def predict_proba(self, X, as_numpy=False):\n",
    "        res = self.forward(X)\n",
    "        if as_numpy:\n",
    "            res = res.detach().numpy()\n",
    "        return res\n",
    "    \n",
    "    def predict(self, X, threshold=0.5, as_numpy=False):\n",
    "        probs = self.predict_proba(X, as_numpy)\n",
    "        return probs > threshold\n",
    "    \n",
    "    def fit(self, X, y, epochs=1000, lr=0.1, lam=0):\n",
    "        optimizer = optim.RMSprop(self.parameters(), lr=lr)\n",
    "        loss_curve = []\n",
    "        for _ in range(epochs):\n",
    "            optimizer.zero_grad()\n",
    "            loss_val = self.loss(X, y) + self.regularize(lam)\n",
    "            loss_curve.append(loss_val.data.item())\n",
    "            loss_val.backward()\n",
    "            optimizer.step()\n",
    "        return loss_curve\n",
    "    \n",
    "    def regularize(self, lam):\n",
    "        loss_val = 0\n",
    "        for p in self.parameters():\n",
    "            loss_val += lam * th.norm(p)\n",
    "        return loss_val"
   ]
  },
  {
   "cell_type": "code",
   "execution_count": 8,
   "metadata": {},
   "outputs": [],
   "source": [
    "class NNModel1(MoonModel):\n",
    "    def __init__(self):\n",
    "        super().__init__()\n",
    "        self.l1 = nn.Linear(9, 2, bias=True)\n",
    "        self.act1 = nn.Sigmoid()\n",
    "        self.l2 = nn.Linear(2, 1, bias=True)\n",
    "        self.act2 = nn.Sigmoid()\n",
    "        \n",
    "    \n",
    "    def forward(self, X):\n",
    "        res = self.l1(X)\n",
    "        res = self.act1(res)\n",
    "        res = self.l2(res)\n",
    "        res = self.act2(res)\n",
    "        return res"
   ]
  },
  {
   "cell_type": "code",
   "execution_count": 9,
   "metadata": {},
   "outputs": [
    {
     "name": "stderr",
     "output_type": "stream",
     "text": [
      "/usr/local/lib/python3.5/dist-packages/sklearn/utils/validation.py:724: DataConversionWarning: A column-vector y was passed when a 1d array was expected. Please change the shape of y to (n_samples, ), for example using ravel().\n",
      "  y = column_or_1d(y, warn=True)\n",
      "/usr/local/lib/python3.5/dist-packages/sklearn/utils/validation.py:724: DataConversionWarning: A column-vector y was passed when a 1d array was expected. Please change the shape of y to (n_samples, ), for example using ravel().\n",
      "  y = column_or_1d(y, warn=True)\n",
      "/usr/local/lib/python3.5/dist-packages/sklearn/utils/validation.py:724: DataConversionWarning: A column-vector y was passed when a 1d array was expected. Please change the shape of y to (n_samples, ), for example using ravel().\n",
      "  y = column_or_1d(y, warn=True)\n",
      "/usr/local/lib/python3.5/dist-packages/sklearn/utils/validation.py:724: DataConversionWarning: A column-vector y was passed when a 1d array was expected. Please change the shape of y to (n_samples, ), for example using ravel().\n",
      "  y = column_or_1d(y, warn=True)\n",
      "/usr/local/lib/python3.5/dist-packages/sklearn/utils/validation.py:724: DataConversionWarning: A column-vector y was passed when a 1d array was expected. Please change the shape of y to (n_samples, ), for example using ravel().\n",
      "  y = column_or_1d(y, warn=True)\n"
     ]
    },
    {
     "data": {
      "image/png": "[encoded data removed]",
      "text/plain": [
       "<Figure size 432x288 with 1 Axes>"
      ]
     },
     "metadata": {
      "needs_background": "light"
     },
     "output_type": "display_data"
    }
   ],
   "source": [
    "kf = KFold(n_splits=5, shuffle=True)\n",
    "kf.get_n_splits(X)\n",
    "\n",
    "f1_lr  = []\n",
    "accuracy_lr = []\n",
    "tpr_lr = []\n",
    "tnr_lr = []\n",
    "\n",
    "f1_nn = []\n",
    "accuracy_nn = []\n",
    "tpr_nn = []\n",
    "tnr_nn = []\n",
    "\n",
    "def plot_loss(loss_curve):\n",
    "    plt.plot(list(range(len(loss_curve))), loss_curve)\n",
    "\n",
    "\n",
    "for train_idx, test_idx in kf.split(X):\n",
    "    \n",
    "    X_train_fold = th.tensor(X[train_idx.astype(int)],dtype=th.float)\n",
    "    #print(y[train_idx])\n",
    "    y_train_fold = th.tensor(y[train_idx.astype(int)],dtype=th.float)\n",
    "    X_test_fold = th.tensor(X[test_idx.astype(int)],dtype=th.float)\n",
    "    #print(y[test_idx])\n",
    "    y_test_fold = th.tensor(y[test_idx.astype(int)],dtype=th.float)\n",
    "    \n",
    "    #X_train = th.tensor(X_train, dtype=th.float32)\n",
    "    #X_test = th.tensor(X_test, dtype=th.float32)\n",
    "    #y_train = th.tensor(y_train, dtype=th.float32).view(-1, 1)\n",
    "    #y_test = th.tensor(y_test, dtype=th.float32).view(-1, 1)\n",
    "    \n",
    "    lr = linear.LogisticRegression(solver='lbfgs')\n",
    "    lr.fit(X_train_fold, y_train_fold)\n",
    "    predictions = lr.predict(X_test_fold)\n",
    "    probs = lr.predict_proba(X_test_fold)[:,1]\n",
    "    f1_lr.append(metrics.f1_score(y_test_fold, predictions))\n",
    "    accuracy_lr.append(metrics.accuracy_score(y_test_fold, predictions))\n",
    "    tpr_lr.append(metrics.recall_score(y_test_fold, predictions))\n",
    "    tn, fp, fn, tp = metrics.confusion_matrix(y_test_fold, predictions).ravel()\n",
    "    N = tn+fp\n",
    "    tnr_lr.append(tn/N)\n",
    "    \n",
    "    \n",
    "    \n",
    "    nn_1 = NNModel1()\n",
    "    # since this model is more complex, we use a smaller learning rate \n",
    "    # and use regularization to prevent overfitting\n",
    "    curve = nn_1.fit(X_train_fold, y_train_fold, lr=0.008, lam=0.01)\n",
    "    plot_loss(curve)\n",
    "    predictions = nn_1.predict(X_test_fold, as_numpy=True)\n",
    "    #print(predictions)\n",
    "    f1_nn.append(metrics.f1_score(y_test_fold, predictions))\n",
    "    accuracy_nn.append(metrics.accuracy_score(y_test_fold, predictions))\n",
    "    tpr_nn.append(metrics.recall_score(y_test_fold, predictions))\n",
    "    tn, fp, fn, tp = metrics.confusion_matrix(y_test_fold, predictions).ravel()\n",
    "    N = tn+fp\n",
    "    tnr_nn.append(tn/N)"
   ]
  },
  {
   "cell_type": "code",
   "execution_count": 10,
   "metadata": {},
   "outputs": [
    {
     "name": "stdout",
     "output_type": "stream",
     "text": [
      "0.9558132956152757\n",
      "0.9685405960945529\n",
      "0.9605555555555556\n",
      "0.9737681159420291\n"
     ]
    }
   ],
   "source": [
    "print(np.mean(f1_nn))\n",
    "print(np.mean(accuracy_nn))\n",
    "print(np.mean(tpr_nn))\n",
    "print(np.mean(tnr_nn))"
   ]
  },
  {
   "cell_type": "code",
   "execution_count": 11,
   "metadata": {},
   "outputs": [
    {
     "name": "stdout",
     "output_type": "stream",
     "text": [
      "0.955518744805261\n",
      "0.9685405960945529\n",
      "0.9565555555555555\n",
      "0.9759420289855072\n"
     ]
    }
   ],
   "source": [
    "print(np.mean(f1_lr))\n",
    "print(np.mean(accuracy_lr))\n",
    "print(np.mean(tpr_lr))\n",
    "print(np.mean(tnr_lr))"
   ]
  },
  {
   "cell_type": "code",
   "execution_count": 12,
   "metadata": {},
   "outputs": [
    {
     "data": {
      "text/plain": [
       "Ttest_relResult(statistic=-0.0893043135389695, pvalue=0.9331328175469775)"
      ]
     },
     "execution_count": 12,
     "metadata": {},
     "output_type": "execute_result"
    }
   ],
   "source": [
    "stats.ttest_rel(f1_lr, f1_nn)"
   ]
  },
  {
   "cell_type": "markdown",
   "metadata": {},
   "source": [
    "Using a significane level of 0.05 and the f1_score we see that the difference between the logistic regression model and the neural network model are not statistically significant. "
   ]
  }
 ],
 "metadata": {
  "kernelspec": {
   "display_name": "Python 3",
   "language": "python",
   "name": "python3"
  },
  "language_info": {
   "codemirror_mode": {
    "name": "ipython",
    "version": 3
   },
   "file_extension": ".py",
   "mimetype": "text/x-python",
   "name": "python",
   "nbconvert_exporter": "python",
   "pygments_lexer": "ipython3",
   "version": "3.5.2"
  }
 },
 "nbformat": 4,
 "nbformat_minor": 2
}
